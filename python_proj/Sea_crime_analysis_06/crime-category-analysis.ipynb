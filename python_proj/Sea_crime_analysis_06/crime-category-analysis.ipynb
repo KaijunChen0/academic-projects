{
 "cells": [
  {
   "cell_type": "code",
   "execution_count": 1,
   "metadata": {},
   "outputs": [],
   "source": [
    "import matplotlib as mpl\n",
    "import matplotlib.pyplot as plt\n",
    "import numpy as np\n",
    "import pandas as pd"
   ]
  },
  {
   "cell_type": "code",
   "execution_count": 2,
   "metadata": {},
   "outputs": [],
   "source": [
    "data = pd.read_csv('SPD_Crime_Data__2008-Present (1).csv')"
   ]
  },
  {
   "cell_type": "code",
   "execution_count": 3,
   "metadata": {},
   "outputs": [
    {
     "data": {
      "text/html": [
       "<div>\n",
       "<style scoped>\n",
       "    .dataframe tbody tr th:only-of-type {\n",
       "        vertical-align: middle;\n",
       "    }\n",
       "\n",
       "    .dataframe tbody tr th {\n",
       "        vertical-align: top;\n",
       "    }\n",
       "\n",
       "    .dataframe thead th {\n",
       "        text-align: right;\n",
       "    }\n",
       "</style>\n",
       "<table border=\"1\" class=\"dataframe\">\n",
       "  <thead>\n",
       "    <tr style=\"text-align: right;\">\n",
       "      <th></th>\n",
       "      <th>Report Number</th>\n",
       "      <th>Offense ID</th>\n",
       "      <th>Offense Start DateTime</th>\n",
       "      <th>Offense End DateTime</th>\n",
       "      <th>Report DateTime</th>\n",
       "      <th>Group A B</th>\n",
       "      <th>Crime Against Category</th>\n",
       "      <th>Offense Parent Group</th>\n",
       "      <th>Offense</th>\n",
       "      <th>Offense Code</th>\n",
       "      <th>Precinct</th>\n",
       "      <th>Sector</th>\n",
       "      <th>Beat</th>\n",
       "      <th>MCPP</th>\n",
       "      <th>100 Block Address</th>\n",
       "      <th>Longitude</th>\n",
       "      <th>Latitude</th>\n",
       "    </tr>\n",
       "  </thead>\n",
       "  <tbody>\n",
       "    <tr>\n",
       "      <th>0</th>\n",
       "      <td>2020-044620</td>\n",
       "      <td>12605873663</td>\n",
       "      <td>2/5/20 10:10</td>\n",
       "      <td>NaN</td>\n",
       "      <td>2/5/20 11:24</td>\n",
       "      <td>A</td>\n",
       "      <td>SOCIETY</td>\n",
       "      <td>DRUG/NARCOTIC OFFENSES</td>\n",
       "      <td>Drug/Narcotic Violations</td>\n",
       "      <td>35A</td>\n",
       "      <td>W</td>\n",
       "      <td>Q</td>\n",
       "      <td>Q1</td>\n",
       "      <td>MAGNOLIA</td>\n",
       "      <td>32XX BLOCK OF 23RD AVE W</td>\n",
       "      <td>-122.385974</td>\n",
       "      <td>47.649387</td>\n",
       "    </tr>\n",
       "    <tr>\n",
       "      <th>1</th>\n",
       "      <td>2020-044452</td>\n",
       "      <td>12605598696</td>\n",
       "      <td>2/3/20 8:00</td>\n",
       "      <td>2/4/20 8:00</td>\n",
       "      <td>2/5/20 10:06</td>\n",
       "      <td>A</td>\n",
       "      <td>PROPERTY</td>\n",
       "      <td>LARCENY-THEFT</td>\n",
       "      <td>Theft of Motor Vehicle Parts or Accessories</td>\n",
       "      <td>23G</td>\n",
       "      <td>N</td>\n",
       "      <td>J</td>\n",
       "      <td>J3</td>\n",
       "      <td>ROOSEVELT/RAVENNA</td>\n",
       "      <td>63XX BLOCK OF 5TH AVE NE</td>\n",
       "      <td>-122.323399</td>\n",
       "      <td>47.675118</td>\n",
       "    </tr>\n",
       "    <tr>\n",
       "      <th>2</th>\n",
       "      <td>2020-044465</td>\n",
       "      <td>12605567653</td>\n",
       "      <td>2/2/20 20:30</td>\n",
       "      <td>2/2/20 21:30</td>\n",
       "      <td>2/5/20 9:39</td>\n",
       "      <td>A</td>\n",
       "      <td>PROPERTY</td>\n",
       "      <td>ROBBERY</td>\n",
       "      <td>Robbery</td>\n",
       "      <td>120</td>\n",
       "      <td>N</td>\n",
       "      <td>U</td>\n",
       "      <td>U3</td>\n",
       "      <td>ROOSEVELT/RAVENNA</td>\n",
       "      <td>26TH AVE NE / NE BLAKELEY ST</td>\n",
       "      <td>-122.299552</td>\n",
       "      <td>47.666384</td>\n",
       "    </tr>\n",
       "    <tr>\n",
       "      <th>3</th>\n",
       "      <td>2020-044225</td>\n",
       "      <td>12605174036</td>\n",
       "      <td>2/5/20 1:17</td>\n",
       "      <td>2/5/20 2:21</td>\n",
       "      <td>2/5/20 3:30</td>\n",
       "      <td>A</td>\n",
       "      <td>PROPERTY</td>\n",
       "      <td>DESTRUCTION/DAMAGE/VANDALISM OF PROPERTY</td>\n",
       "      <td>Destruction/Damage/Vandalism of Property</td>\n",
       "      <td>290</td>\n",
       "      <td>W</td>\n",
       "      <td>Q</td>\n",
       "      <td>Q1</td>\n",
       "      <td>MAGNOLIA</td>\n",
       "      <td>22XX BLOCK OF W RAYE ST</td>\n",
       "      <td>-122.384865</td>\n",
       "      <td>47.642927</td>\n",
       "    </tr>\n",
       "    <tr>\n",
       "      <th>4</th>\n",
       "      <td>2020-044076</td>\n",
       "      <td>12605081469</td>\n",
       "      <td>2/5/20 0:51</td>\n",
       "      <td>NaN</td>\n",
       "      <td>2/5/20 0:51</td>\n",
       "      <td>B</td>\n",
       "      <td>SOCIETY</td>\n",
       "      <td>DRIVING UNDER THE INFLUENCE</td>\n",
       "      <td>Driving Under the Influence</td>\n",
       "      <td>90D</td>\n",
       "      <td>N</td>\n",
       "      <td>B</td>\n",
       "      <td>B2</td>\n",
       "      <td>BALLARD SOUTH</td>\n",
       "      <td>NW 46TH ST / 8TH AVE NW</td>\n",
       "      <td>-122.366195</td>\n",
       "      <td>47.662193</td>\n",
       "    </tr>\n",
       "  </tbody>\n",
       "</table>\n",
       "</div>"
      ],
      "text/plain": [
       "  Report Number   Offense ID Offense Start DateTime Offense End DateTime  \\\n",
       "0   2020-044620  12605873663           2/5/20 10:10                  NaN   \n",
       "1   2020-044452  12605598696            2/3/20 8:00          2/4/20 8:00   \n",
       "2   2020-044465  12605567653           2/2/20 20:30         2/2/20 21:30   \n",
       "3   2020-044225  12605174036            2/5/20 1:17          2/5/20 2:21   \n",
       "4   2020-044076  12605081469            2/5/20 0:51                  NaN   \n",
       "\n",
       "  Report DateTime Group A B Crime Against Category  \\\n",
       "0    2/5/20 11:24         A                SOCIETY   \n",
       "1    2/5/20 10:06         A               PROPERTY   \n",
       "2     2/5/20 9:39         A               PROPERTY   \n",
       "3     2/5/20 3:30         A               PROPERTY   \n",
       "4     2/5/20 0:51         B                SOCIETY   \n",
       "\n",
       "                       Offense Parent Group  \\\n",
       "0                    DRUG/NARCOTIC OFFENSES   \n",
       "1                             LARCENY-THEFT   \n",
       "2                                   ROBBERY   \n",
       "3  DESTRUCTION/DAMAGE/VANDALISM OF PROPERTY   \n",
       "4               DRIVING UNDER THE INFLUENCE   \n",
       "\n",
       "                                       Offense Offense Code Precinct Sector  \\\n",
       "0                     Drug/Narcotic Violations          35A        W      Q   \n",
       "1  Theft of Motor Vehicle Parts or Accessories          23G        N      J   \n",
       "2                                      Robbery          120        N      U   \n",
       "3     Destruction/Damage/Vandalism of Property          290        W      Q   \n",
       "4                  Driving Under the Influence          90D        N      B   \n",
       "\n",
       "  Beat               MCPP             100 Block Address   Longitude   Latitude  \n",
       "0   Q1           MAGNOLIA      32XX BLOCK OF 23RD AVE W -122.385974  47.649387  \n",
       "1   J3  ROOSEVELT/RAVENNA      63XX BLOCK OF 5TH AVE NE -122.323399  47.675118  \n",
       "2   U3  ROOSEVELT/RAVENNA  26TH AVE NE / NE BLAKELEY ST -122.299552  47.666384  \n",
       "3   Q1           MAGNOLIA       22XX BLOCK OF W RAYE ST -122.384865  47.642927  \n",
       "4   B2      BALLARD SOUTH       NW 46TH ST / 8TH AVE NW -122.366195  47.662193  "
      ]
     },
     "execution_count": 3,
     "metadata": {},
     "output_type": "execute_result"
    }
   ],
   "source": [
    "data.head()"
   ]
  },
  {
   "cell_type": "code",
   "execution_count": 4,
   "metadata": {},
   "outputs": [],
   "source": [
    "data['Report Number'] =data['Report Number'].apply(lambda x :x[0:4]) #get the year of the crimes"
   ]
  },
  {
   "cell_type": "code",
   "execution_count": 5,
   "metadata": {
    "scrolled": true
   },
   "outputs": [
    {
     "data": {
      "text/html": [
       "<div>\n",
       "<style scoped>\n",
       "    .dataframe tbody tr th:only-of-type {\n",
       "        vertical-align: middle;\n",
       "    }\n",
       "\n",
       "    .dataframe tbody tr th {\n",
       "        vertical-align: top;\n",
       "    }\n",
       "\n",
       "    .dataframe thead th {\n",
       "        text-align: right;\n",
       "    }\n",
       "</style>\n",
       "<table border=\"1\" class=\"dataframe\">\n",
       "  <thead>\n",
       "    <tr style=\"text-align: right;\">\n",
       "      <th></th>\n",
       "      <th>Report Number</th>\n",
       "      <th>Offense ID</th>\n",
       "      <th>Offense Start DateTime</th>\n",
       "      <th>Offense End DateTime</th>\n",
       "      <th>Report DateTime</th>\n",
       "      <th>Group A B</th>\n",
       "      <th>Crime Against Category</th>\n",
       "      <th>Offense Parent Group</th>\n",
       "      <th>Offense</th>\n",
       "      <th>Offense Code</th>\n",
       "      <th>Precinct</th>\n",
       "      <th>Sector</th>\n",
       "      <th>Beat</th>\n",
       "      <th>MCPP</th>\n",
       "      <th>100 Block Address</th>\n",
       "      <th>Longitude</th>\n",
       "      <th>Latitude</th>\n",
       "    </tr>\n",
       "  </thead>\n",
       "  <tbody>\n",
       "    <tr>\n",
       "      <th>0</th>\n",
       "      <td>2020</td>\n",
       "      <td>12605873663</td>\n",
       "      <td>2/5/20 10:10</td>\n",
       "      <td>NaN</td>\n",
       "      <td>2/5/20 11:24</td>\n",
       "      <td>A</td>\n",
       "      <td>SOCIETY</td>\n",
       "      <td>DRUG/NARCOTIC OFFENSES</td>\n",
       "      <td>Drug/Narcotic Violations</td>\n",
       "      <td>35A</td>\n",
       "      <td>W</td>\n",
       "      <td>Q</td>\n",
       "      <td>Q1</td>\n",
       "      <td>MAGNOLIA</td>\n",
       "      <td>32XX BLOCK OF 23RD AVE W</td>\n",
       "      <td>-122.385974</td>\n",
       "      <td>47.649387</td>\n",
       "    </tr>\n",
       "    <tr>\n",
       "      <th>1</th>\n",
       "      <td>2020</td>\n",
       "      <td>12605598696</td>\n",
       "      <td>2/3/20 8:00</td>\n",
       "      <td>2/4/20 8:00</td>\n",
       "      <td>2/5/20 10:06</td>\n",
       "      <td>A</td>\n",
       "      <td>PROPERTY</td>\n",
       "      <td>LARCENY-THEFT</td>\n",
       "      <td>Theft of Motor Vehicle Parts or Accessories</td>\n",
       "      <td>23G</td>\n",
       "      <td>N</td>\n",
       "      <td>J</td>\n",
       "      <td>J3</td>\n",
       "      <td>ROOSEVELT/RAVENNA</td>\n",
       "      <td>63XX BLOCK OF 5TH AVE NE</td>\n",
       "      <td>-122.323399</td>\n",
       "      <td>47.675118</td>\n",
       "    </tr>\n",
       "    <tr>\n",
       "      <th>2</th>\n",
       "      <td>2020</td>\n",
       "      <td>12605567653</td>\n",
       "      <td>2/2/20 20:30</td>\n",
       "      <td>2/2/20 21:30</td>\n",
       "      <td>2/5/20 9:39</td>\n",
       "      <td>A</td>\n",
       "      <td>PROPERTY</td>\n",
       "      <td>ROBBERY</td>\n",
       "      <td>Robbery</td>\n",
       "      <td>120</td>\n",
       "      <td>N</td>\n",
       "      <td>U</td>\n",
       "      <td>U3</td>\n",
       "      <td>ROOSEVELT/RAVENNA</td>\n",
       "      <td>26TH AVE NE / NE BLAKELEY ST</td>\n",
       "      <td>-122.299552</td>\n",
       "      <td>47.666384</td>\n",
       "    </tr>\n",
       "    <tr>\n",
       "      <th>3</th>\n",
       "      <td>2020</td>\n",
       "      <td>12605174036</td>\n",
       "      <td>2/5/20 1:17</td>\n",
       "      <td>2/5/20 2:21</td>\n",
       "      <td>2/5/20 3:30</td>\n",
       "      <td>A</td>\n",
       "      <td>PROPERTY</td>\n",
       "      <td>DESTRUCTION/DAMAGE/VANDALISM OF PROPERTY</td>\n",
       "      <td>Destruction/Damage/Vandalism of Property</td>\n",
       "      <td>290</td>\n",
       "      <td>W</td>\n",
       "      <td>Q</td>\n",
       "      <td>Q1</td>\n",
       "      <td>MAGNOLIA</td>\n",
       "      <td>22XX BLOCK OF W RAYE ST</td>\n",
       "      <td>-122.384865</td>\n",
       "      <td>47.642927</td>\n",
       "    </tr>\n",
       "    <tr>\n",
       "      <th>4</th>\n",
       "      <td>2020</td>\n",
       "      <td>12605081469</td>\n",
       "      <td>2/5/20 0:51</td>\n",
       "      <td>NaN</td>\n",
       "      <td>2/5/20 0:51</td>\n",
       "      <td>B</td>\n",
       "      <td>SOCIETY</td>\n",
       "      <td>DRIVING UNDER THE INFLUENCE</td>\n",
       "      <td>Driving Under the Influence</td>\n",
       "      <td>90D</td>\n",
       "      <td>N</td>\n",
       "      <td>B</td>\n",
       "      <td>B2</td>\n",
       "      <td>BALLARD SOUTH</td>\n",
       "      <td>NW 46TH ST / 8TH AVE NW</td>\n",
       "      <td>-122.366195</td>\n",
       "      <td>47.662193</td>\n",
       "    </tr>\n",
       "  </tbody>\n",
       "</table>\n",
       "</div>"
      ],
      "text/plain": [
       "  Report Number   Offense ID Offense Start DateTime Offense End DateTime  \\\n",
       "0          2020  12605873663           2/5/20 10:10                  NaN   \n",
       "1          2020  12605598696            2/3/20 8:00          2/4/20 8:00   \n",
       "2          2020  12605567653           2/2/20 20:30         2/2/20 21:30   \n",
       "3          2020  12605174036            2/5/20 1:17          2/5/20 2:21   \n",
       "4          2020  12605081469            2/5/20 0:51                  NaN   \n",
       "\n",
       "  Report DateTime Group A B Crime Against Category  \\\n",
       "0    2/5/20 11:24         A                SOCIETY   \n",
       "1    2/5/20 10:06         A               PROPERTY   \n",
       "2     2/5/20 9:39         A               PROPERTY   \n",
       "3     2/5/20 3:30         A               PROPERTY   \n",
       "4     2/5/20 0:51         B                SOCIETY   \n",
       "\n",
       "                       Offense Parent Group  \\\n",
       "0                    DRUG/NARCOTIC OFFENSES   \n",
       "1                             LARCENY-THEFT   \n",
       "2                                   ROBBERY   \n",
       "3  DESTRUCTION/DAMAGE/VANDALISM OF PROPERTY   \n",
       "4               DRIVING UNDER THE INFLUENCE   \n",
       "\n",
       "                                       Offense Offense Code Precinct Sector  \\\n",
       "0                     Drug/Narcotic Violations          35A        W      Q   \n",
       "1  Theft of Motor Vehicle Parts or Accessories          23G        N      J   \n",
       "2                                      Robbery          120        N      U   \n",
       "3     Destruction/Damage/Vandalism of Property          290        W      Q   \n",
       "4                  Driving Under the Influence          90D        N      B   \n",
       "\n",
       "  Beat               MCPP             100 Block Address   Longitude   Latitude  \n",
       "0   Q1           MAGNOLIA      32XX BLOCK OF 23RD AVE W -122.385974  47.649387  \n",
       "1   J3  ROOSEVELT/RAVENNA      63XX BLOCK OF 5TH AVE NE -122.323399  47.675118  \n",
       "2   U3  ROOSEVELT/RAVENNA  26TH AVE NE / NE BLAKELEY ST -122.299552  47.666384  \n",
       "3   Q1           MAGNOLIA       22XX BLOCK OF W RAYE ST -122.384865  47.642927  \n",
       "4   B2      BALLARD SOUTH       NW 46TH ST / 8TH AVE NW -122.366195  47.662193  "
      ]
     },
     "execution_count": 5,
     "metadata": {},
     "output_type": "execute_result"
    }
   ],
   "source": [
    "data.head()"
   ]
  },
  {
   "cell_type": "markdown",
   "metadata": {},
   "source": [
    "# Get the Data from 2017 to 2019"
   ]
  },
  {
   "cell_type": "code",
   "execution_count": 6,
   "metadata": {},
   "outputs": [],
   "source": [
    "data1 = data[data['Report Number'].isin(['2017'])|data['Report Number'].isin(['2018'])|data['Report Number'].isin(['2019'])]"
   ]
  },
  {
   "cell_type": "code",
   "execution_count": 7,
   "metadata": {},
   "outputs": [
    {
     "data": {
      "text/html": [
       "<div>\n",
       "<style scoped>\n",
       "    .dataframe tbody tr th:only-of-type {\n",
       "        vertical-align: middle;\n",
       "    }\n",
       "\n",
       "    .dataframe tbody tr th {\n",
       "        vertical-align: top;\n",
       "    }\n",
       "\n",
       "    .dataframe thead th {\n",
       "        text-align: right;\n",
       "    }\n",
       "</style>\n",
       "<table border=\"1\" class=\"dataframe\">\n",
       "  <thead>\n",
       "    <tr style=\"text-align: right;\">\n",
       "      <th></th>\n",
       "      <th>Report Number</th>\n",
       "      <th>Offense ID</th>\n",
       "      <th>Offense Start DateTime</th>\n",
       "      <th>Offense End DateTime</th>\n",
       "      <th>Report DateTime</th>\n",
       "      <th>Group A B</th>\n",
       "      <th>Crime Against Category</th>\n",
       "      <th>Offense Parent Group</th>\n",
       "      <th>Offense</th>\n",
       "      <th>Offense Code</th>\n",
       "      <th>Precinct</th>\n",
       "      <th>Sector</th>\n",
       "      <th>Beat</th>\n",
       "      <th>MCPP</th>\n",
       "      <th>100 Block Address</th>\n",
       "      <th>Longitude</th>\n",
       "      <th>Latitude</th>\n",
       "    </tr>\n",
       "  </thead>\n",
       "  <tbody>\n",
       "    <tr>\n",
       "      <th>367</th>\n",
       "      <td>2019</td>\n",
       "      <td>12595791646</td>\n",
       "      <td>10/29/19 15:24</td>\n",
       "      <td>NaN</td>\n",
       "      <td>1/31/20 7:12</td>\n",
       "      <td>A</td>\n",
       "      <td>PROPERTY</td>\n",
       "      <td>LARCENY-THEFT</td>\n",
       "      <td>Shoplifting</td>\n",
       "      <td>23C</td>\n",
       "      <td>N</td>\n",
       "      <td>U</td>\n",
       "      <td>U3</td>\n",
       "      <td>ROOSEVELT/RAVENNA</td>\n",
       "      <td>26XX BLOCK OF NE 49TH ST</td>\n",
       "      <td>-122.298225</td>\n",
       "      <td>47.664317</td>\n",
       "    </tr>\n",
       "    <tr>\n",
       "      <th>697</th>\n",
       "      <td>2019</td>\n",
       "      <td>12369550557</td>\n",
       "      <td>7/5/19 20:22</td>\n",
       "      <td>7/5/19 21:10</td>\n",
       "      <td>1/28/20 11:59</td>\n",
       "      <td>A</td>\n",
       "      <td>PROPERTY</td>\n",
       "      <td>DESTRUCTION/DAMAGE/VANDALISM OF PROPERTY</td>\n",
       "      <td>Destruction/Damage/Vandalism of Property</td>\n",
       "      <td>290</td>\n",
       "      <td>N</td>\n",
       "      <td>B</td>\n",
       "      <td>B1</td>\n",
       "      <td>BALLARD SOUTH</td>\n",
       "      <td>30XX BLOCK OF NW MARKET ST</td>\n",
       "      <td>-122.395076</td>\n",
       "      <td>47.668646</td>\n",
       "    </tr>\n",
       "    <tr>\n",
       "      <th>1196</th>\n",
       "      <td>2019</td>\n",
       "      <td>12220783564</td>\n",
       "      <td>12/31/19 22:40</td>\n",
       "      <td>NaN</td>\n",
       "      <td>1/23/20 11:54</td>\n",
       "      <td>A</td>\n",
       "      <td>PROPERTY</td>\n",
       "      <td>DESTRUCTION/DAMAGE/VANDALISM OF PROPERTY</td>\n",
       "      <td>Destruction/Damage/Vandalism of Property</td>\n",
       "      <td>290</td>\n",
       "      <td>S</td>\n",
       "      <td>S</td>\n",
       "      <td>S3</td>\n",
       "      <td>RAINIER BEACH</td>\n",
       "      <td>92XX BLOCK OF RAINIER AVE S</td>\n",
       "      <td>-122.268030</td>\n",
       "      <td>47.519852</td>\n",
       "    </tr>\n",
       "    <tr>\n",
       "      <th>1392</th>\n",
       "      <td>2019</td>\n",
       "      <td>12190877818</td>\n",
       "      <td>11/18/19 18:12</td>\n",
       "      <td>NaN</td>\n",
       "      <td>1/22/20 6:16</td>\n",
       "      <td>A</td>\n",
       "      <td>PROPERTY</td>\n",
       "      <td>LARCENY-THEFT</td>\n",
       "      <td>Shoplifting</td>\n",
       "      <td>23C</td>\n",
       "      <td>SW</td>\n",
       "      <td>F</td>\n",
       "      <td>F2</td>\n",
       "      <td>ROXHILL/WESTWOOD/ARBOR HEIGHTS</td>\n",
       "      <td>26XX BLOCK OF SW BARTON ST</td>\n",
       "      <td>-122.367312</td>\n",
       "      <td>47.521028</td>\n",
       "    </tr>\n",
       "    <tr>\n",
       "      <th>1482</th>\n",
       "      <td>2019</td>\n",
       "      <td>12174762005</td>\n",
       "      <td>12/6/19 8:42</td>\n",
       "      <td>12/6/19 8:43</td>\n",
       "      <td>1/20/20 21:37</td>\n",
       "      <td>A</td>\n",
       "      <td>PROPERTY</td>\n",
       "      <td>DESTRUCTION/DAMAGE/VANDALISM OF PROPERTY</td>\n",
       "      <td>Destruction/Damage/Vandalism of Property</td>\n",
       "      <td>290</td>\n",
       "      <td>W</td>\n",
       "      <td>D</td>\n",
       "      <td>D2</td>\n",
       "      <td>SLU/CASCADE</td>\n",
       "      <td>20XX BLOCK OF WESTLAKE AVE</td>\n",
       "      <td>-122.337879</td>\n",
       "      <td>47.615887</td>\n",
       "    </tr>\n",
       "  </tbody>\n",
       "</table>\n",
       "</div>"
      ],
      "text/plain": [
       "     Report Number   Offense ID Offense Start DateTime Offense End DateTime  \\\n",
       "367           2019  12595791646         10/29/19 15:24                  NaN   \n",
       "697           2019  12369550557           7/5/19 20:22         7/5/19 21:10   \n",
       "1196          2019  12220783564         12/31/19 22:40                  NaN   \n",
       "1392          2019  12190877818         11/18/19 18:12                  NaN   \n",
       "1482          2019  12174762005           12/6/19 8:42         12/6/19 8:43   \n",
       "\n",
       "     Report DateTime Group A B Crime Against Category  \\\n",
       "367     1/31/20 7:12         A               PROPERTY   \n",
       "697    1/28/20 11:59         A               PROPERTY   \n",
       "1196   1/23/20 11:54         A               PROPERTY   \n",
       "1392    1/22/20 6:16         A               PROPERTY   \n",
       "1482   1/20/20 21:37         A               PROPERTY   \n",
       "\n",
       "                          Offense Parent Group  \\\n",
       "367                              LARCENY-THEFT   \n",
       "697   DESTRUCTION/DAMAGE/VANDALISM OF PROPERTY   \n",
       "1196  DESTRUCTION/DAMAGE/VANDALISM OF PROPERTY   \n",
       "1392                             LARCENY-THEFT   \n",
       "1482  DESTRUCTION/DAMAGE/VANDALISM OF PROPERTY   \n",
       "\n",
       "                                       Offense Offense Code Precinct Sector  \\\n",
       "367                                Shoplifting          23C        N      U   \n",
       "697   Destruction/Damage/Vandalism of Property          290        N      B   \n",
       "1196  Destruction/Damage/Vandalism of Property          290        S      S   \n",
       "1392                               Shoplifting          23C       SW      F   \n",
       "1482  Destruction/Damage/Vandalism of Property          290        W      D   \n",
       "\n",
       "     Beat                            MCPP            100 Block Address  \\\n",
       "367    U3               ROOSEVELT/RAVENNA     26XX BLOCK OF NE 49TH ST   \n",
       "697    B1                   BALLARD SOUTH   30XX BLOCK OF NW MARKET ST   \n",
       "1196   S3                   RAINIER BEACH  92XX BLOCK OF RAINIER AVE S   \n",
       "1392   F2  ROXHILL/WESTWOOD/ARBOR HEIGHTS   26XX BLOCK OF SW BARTON ST   \n",
       "1482   D2                     SLU/CASCADE   20XX BLOCK OF WESTLAKE AVE   \n",
       "\n",
       "       Longitude   Latitude  \n",
       "367  -122.298225  47.664317  \n",
       "697  -122.395076  47.668646  \n",
       "1196 -122.268030  47.519852  \n",
       "1392 -122.367312  47.521028  \n",
       "1482 -122.337879  47.615887  "
      ]
     },
     "execution_count": 7,
     "metadata": {},
     "output_type": "execute_result"
    }
   ],
   "source": [
    "data1.head()"
   ]
  },
  {
   "cell_type": "code",
   "execution_count": 8,
   "metadata": {},
   "outputs": [
    {
     "name": "stdout",
     "output_type": "stream",
     "text": [
      "PROPERTY       155795\n",
      "PERSON          35094\n",
      "SOCIETY         28338\n",
      "NOT_A_CRIME         7\n",
      "Name: Crime Against Category, dtype: int64\n"
     ]
    }
   ],
   "source": [
    "loc_count = data1['Crime Against Category'].value_counts()\n",
    "loc_count_sort = loc_count.sort_values(ascending=False) #get the number of crimes in different categories\n",
    "print(loc_count_sort) "
   ]
  },
  {
   "cell_type": "code",
   "execution_count": 9,
   "metadata": {},
   "outputs": [
    {
     "data": {
      "image/png": "[encoded data removed]",
      "text/plain": [
       "<Figure size 576x444.96 with 1 Axes>"
      ]
     },
     "metadata": {
      "needs_background": "light"
     },
     "output_type": "display_data"
    }
   ],
   "source": [
    "import matplotlib.pyplot as plt\n",
    "\n",
    "nums = [35094,28338,155795]\n",
    "x_ticks = ['PERSON','SOCIETY','PROPERTY'] #crime categories\n",
    "plt.figure(figsize=(8, 6.18))  \n",
    "plt.title(\"Number Of The Crimes From 2017 To 2019\")\n",
    "x = range(0, len(nums))\n",
    "# x-intercept\n",
    "plt.xticks(x, x_ticks) # rotation=\"vertical\"\n",
    "plt.bar(x, nums, width=0.6, label=\"number of the crimes\",color='lightblue')\n",
    "for a, b in zip(x, nums): # y-intercept\n",
    "    plt.text(a, b + 2, b, ha='center', va='bottom')\n",
    "plt.xlabel(\"Crime Category\")\n",
    "plt.ylabel(\"Number\")\n",
    "plt.legend(loc=\"upper left\")  # label\n",
    "plt.show()\n",
    "\n"
   ]
  },
  {
   "cell_type": "markdown",
   "metadata": {},
   "source": [
    "# Get the Data from 2020 to 2022"
   ]
  },
  {
   "cell_type": "code",
   "execution_count": 10,
   "metadata": {},
   "outputs": [],
   "source": [
    "data2 = data[data['Report Number'].isin(['2020'])|data['Report Number'].isin(['2021'])|data['Report Number'].isin(['2022'])]"
   ]
  },
  {
   "cell_type": "code",
   "execution_count": 11,
   "metadata": {},
   "outputs": [
    {
     "name": "stdout",
     "output_type": "stream",
     "text": [
      "PROPERTY       168057\n",
      "PERSON          34251\n",
      "SOCIETY         14146\n",
      "NOT_A_CRIME         7\n",
      "Name: Crime Against Category, dtype: int64\n"
     ]
    }
   ],
   "source": [
    "loc_count = data2['Crime Against Category'].value_counts()\n",
    "loc_count_sort = loc_count.sort_values(ascending=False) # get the number of crimes in different categories\n",
    "print(loc_count_sort)"
   ]
  },
  {
   "cell_type": "code",
   "execution_count": 12,
   "metadata": {},
   "outputs": [
    {
     "data": {
      "image/png": "[encoded data removed]",
      "text/plain": [
       "<Figure size 576x444.96 with 1 Axes>"
      ]
     },
     "metadata": {
      "needs_background": "light"
     },
     "output_type": "display_data"
    }
   ],
   "source": [
    "import matplotlib.pyplot as plt\n",
    "\n",
    "nums = [34251,14146,168057]\n",
    "x_ticks = ['PERSON','SOCIETY','PROPERTY'] #crime categories\n",
    "plt.figure(figsize=(8, 6.18))  \n",
    "plt.title(\"Number Of The Crimes From 2020 to 2022\")\n",
    "x = range(0, len(nums))\n",
    "plt.xticks(x, x_ticks)  # rotation=\"vertical\"\n",
    "plt.bar(x, nums, width=0.6, label=\"number of the crimes\",color='lightblue')\n",
    "for a, b in zip(x, nums): # y-intercept\n",
    "    plt.text(a, b + 2, b, ha='center', va='bottom')\n",
    "plt.xlabel(\"Crime Category\")\n",
    "plt.ylabel(\"Number\")\n",
    "plt.legend(loc=\"upper left\")  # label\n",
    "plt.show()\n"
   ]
  },
  {
   "cell_type": "markdown",
   "metadata": {},
   "source": [
    "# Get the Data From 2017 To 2019 In Each Month"
   ]
  },
  {
   "cell_type": "code",
   "execution_count": 13,
   "metadata": {},
   "outputs": [
    {
     "data": {
      "text/html": [
       "<div>\n",
       "<style scoped>\n",
       "    .dataframe tbody tr th:only-of-type {\n",
       "        vertical-align: middle;\n",
       "    }\n",
       "\n",
       "    .dataframe tbody tr th {\n",
       "        vertical-align: top;\n",
       "    }\n",
       "\n",
       "    .dataframe thead th {\n",
       "        text-align: right;\n",
       "    }\n",
       "</style>\n",
       "<table border=\"1\" class=\"dataframe\">\n",
       "  <thead>\n",
       "    <tr style=\"text-align: right;\">\n",
       "      <th></th>\n",
       "      <th>Report Number</th>\n",
       "      <th>Offense ID</th>\n",
       "      <th>Offense Start DateTime</th>\n",
       "      <th>Offense End DateTime</th>\n",
       "      <th>Report DateTime</th>\n",
       "      <th>Group A B</th>\n",
       "      <th>Crime Against Category</th>\n",
       "      <th>Offense Parent Group</th>\n",
       "      <th>Offense</th>\n",
       "      <th>Offense Code</th>\n",
       "      <th>Precinct</th>\n",
       "      <th>Sector</th>\n",
       "      <th>Beat</th>\n",
       "      <th>MCPP</th>\n",
       "      <th>100 Block Address</th>\n",
       "      <th>Longitude</th>\n",
       "      <th>Latitude</th>\n",
       "    </tr>\n",
       "  </thead>\n",
       "  <tbody>\n",
       "    <tr>\n",
       "      <th>367</th>\n",
       "      <td>2019</td>\n",
       "      <td>12595791646</td>\n",
       "      <td>10/29/19 15:24</td>\n",
       "      <td>NaN</td>\n",
       "      <td>1/31/20 7:12</td>\n",
       "      <td>A</td>\n",
       "      <td>PROPERTY</td>\n",
       "      <td>LARCENY-THEFT</td>\n",
       "      <td>Shoplifting</td>\n",
       "      <td>23C</td>\n",
       "      <td>N</td>\n",
       "      <td>U</td>\n",
       "      <td>U3</td>\n",
       "      <td>ROOSEVELT/RAVENNA</td>\n",
       "      <td>26XX BLOCK OF NE 49TH ST</td>\n",
       "      <td>-122.298225</td>\n",
       "      <td>47.664317</td>\n",
       "    </tr>\n",
       "    <tr>\n",
       "      <th>697</th>\n",
       "      <td>2019</td>\n",
       "      <td>12369550557</td>\n",
       "      <td>7/5/19 20:22</td>\n",
       "      <td>7/5/19 21:10</td>\n",
       "      <td>1/28/20 11:59</td>\n",
       "      <td>A</td>\n",
       "      <td>PROPERTY</td>\n",
       "      <td>DESTRUCTION/DAMAGE/VANDALISM OF PROPERTY</td>\n",
       "      <td>Destruction/Damage/Vandalism of Property</td>\n",
       "      <td>290</td>\n",
       "      <td>N</td>\n",
       "      <td>B</td>\n",
       "      <td>B1</td>\n",
       "      <td>BALLARD SOUTH</td>\n",
       "      <td>30XX BLOCK OF NW MARKET ST</td>\n",
       "      <td>-122.395076</td>\n",
       "      <td>47.668646</td>\n",
       "    </tr>\n",
       "    <tr>\n",
       "      <th>1196</th>\n",
       "      <td>2019</td>\n",
       "      <td>12220783564</td>\n",
       "      <td>12/31/19 22:40</td>\n",
       "      <td>NaN</td>\n",
       "      <td>1/23/20 11:54</td>\n",
       "      <td>A</td>\n",
       "      <td>PROPERTY</td>\n",
       "      <td>DESTRUCTION/DAMAGE/VANDALISM OF PROPERTY</td>\n",
       "      <td>Destruction/Damage/Vandalism of Property</td>\n",
       "      <td>290</td>\n",
       "      <td>S</td>\n",
       "      <td>S</td>\n",
       "      <td>S3</td>\n",
       "      <td>RAINIER BEACH</td>\n",
       "      <td>92XX BLOCK OF RAINIER AVE S</td>\n",
       "      <td>-122.268030</td>\n",
       "      <td>47.519852</td>\n",
       "    </tr>\n",
       "    <tr>\n",
       "      <th>1392</th>\n",
       "      <td>2019</td>\n",
       "      <td>12190877818</td>\n",
       "      <td>11/18/19 18:12</td>\n",
       "      <td>NaN</td>\n",
       "      <td>1/22/20 6:16</td>\n",
       "      <td>A</td>\n",
       "      <td>PROPERTY</td>\n",
       "      <td>LARCENY-THEFT</td>\n",
       "      <td>Shoplifting</td>\n",
       "      <td>23C</td>\n",
       "      <td>SW</td>\n",
       "      <td>F</td>\n",
       "      <td>F2</td>\n",
       "      <td>ROXHILL/WESTWOOD/ARBOR HEIGHTS</td>\n",
       "      <td>26XX BLOCK OF SW BARTON ST</td>\n",
       "      <td>-122.367312</td>\n",
       "      <td>47.521028</td>\n",
       "    </tr>\n",
       "    <tr>\n",
       "      <th>1482</th>\n",
       "      <td>2019</td>\n",
       "      <td>12174762005</td>\n",
       "      <td>12/6/19 8:42</td>\n",
       "      <td>12/6/19 8:43</td>\n",
       "      <td>1/20/20 21:37</td>\n",
       "      <td>A</td>\n",
       "      <td>PROPERTY</td>\n",
       "      <td>DESTRUCTION/DAMAGE/VANDALISM OF PROPERTY</td>\n",
       "      <td>Destruction/Damage/Vandalism of Property</td>\n",
       "      <td>290</td>\n",
       "      <td>W</td>\n",
       "      <td>D</td>\n",
       "      <td>D2</td>\n",
       "      <td>SLU/CASCADE</td>\n",
       "      <td>20XX BLOCK OF WESTLAKE AVE</td>\n",
       "      <td>-122.337879</td>\n",
       "      <td>47.615887</td>\n",
       "    </tr>\n",
       "  </tbody>\n",
       "</table>\n",
       "</div>"
      ],
      "text/plain": [
       "     Report Number   Offense ID Offense Start DateTime Offense End DateTime  \\\n",
       "367           2019  12595791646         10/29/19 15:24                  NaN   \n",
       "697           2019  12369550557           7/5/19 20:22         7/5/19 21:10   \n",
       "1196          2019  12220783564         12/31/19 22:40                  NaN   \n",
       "1392          2019  12190877818         11/18/19 18:12                  NaN   \n",
       "1482          2019  12174762005           12/6/19 8:42         12/6/19 8:43   \n",
       "\n",
       "     Report DateTime Group A B Crime Against Category  \\\n",
       "367     1/31/20 7:12         A               PROPERTY   \n",
       "697    1/28/20 11:59         A               PROPERTY   \n",
       "1196   1/23/20 11:54         A               PROPERTY   \n",
       "1392    1/22/20 6:16         A               PROPERTY   \n",
       "1482   1/20/20 21:37         A               PROPERTY   \n",
       "\n",
       "                          Offense Parent Group  \\\n",
       "367                              LARCENY-THEFT   \n",
       "697   DESTRUCTION/DAMAGE/VANDALISM OF PROPERTY   \n",
       "1196  DESTRUCTION/DAMAGE/VANDALISM OF PROPERTY   \n",
       "1392                             LARCENY-THEFT   \n",
       "1482  DESTRUCTION/DAMAGE/VANDALISM OF PROPERTY   \n",
       "\n",
       "                                       Offense Offense Code Precinct Sector  \\\n",
       "367                                Shoplifting          23C        N      U   \n",
       "697   Destruction/Damage/Vandalism of Property          290        N      B   \n",
       "1196  Destruction/Damage/Vandalism of Property          290        S      S   \n",
       "1392                               Shoplifting          23C       SW      F   \n",
       "1482  Destruction/Damage/Vandalism of Property          290        W      D   \n",
       "\n",
       "     Beat                            MCPP            100 Block Address  \\\n",
       "367    U3               ROOSEVELT/RAVENNA     26XX BLOCK OF NE 49TH ST   \n",
       "697    B1                   BALLARD SOUTH   30XX BLOCK OF NW MARKET ST   \n",
       "1196   S3                   RAINIER BEACH  92XX BLOCK OF RAINIER AVE S   \n",
       "1392   F2  ROXHILL/WESTWOOD/ARBOR HEIGHTS   26XX BLOCK OF SW BARTON ST   \n",
       "1482   D2                     SLU/CASCADE   20XX BLOCK OF WESTLAKE AVE   \n",
       "\n",
       "       Longitude   Latitude  \n",
       "367  -122.298225  47.664317  \n",
       "697  -122.395076  47.668646  \n",
       "1196 -122.268030  47.519852  \n",
       "1392 -122.367312  47.521028  \n",
       "1482 -122.337879  47.615887  "
      ]
     },
     "execution_count": 13,
     "metadata": {},
     "output_type": "execute_result"
    }
   ],
   "source": [
    "data1.head()"
   ]
  },
  {
   "cell_type": "code",
   "execution_count": 14,
   "metadata": {},
   "outputs": [
    {
     "name": "stderr",
     "output_type": "stream",
     "text": [
      "/var/folders/q3/lm7nlbfx40q_lss09jr0_lzm0000gn/T/ipykernel_75793/2340019787.py:1: SettingWithCopyWarning: \n",
      "A value is trying to be set on a copy of a slice from a DataFrame.\n",
      "Try using .loc[row_indexer,col_indexer] = value instead\n",
      "\n",
      "See the caveats in the documentation: https://pandas.pydata.org/pandas-docs/stable/user_guide/indexing.html#returning-a-view-versus-a-copy\n",
      "  data1['Report DateTime'] =data1['Report DateTime'].apply(lambda x:x[0:2]) #get the year of the crimes\n"
     ]
    }
   ],
   "source": [
    "data1['Report DateTime'] =data1['Report DateTime'].apply(lambda x:x[0:2]) #get the year of the crimes"
   ]
  },
  {
   "cell_type": "code",
   "execution_count": 15,
   "metadata": {},
   "outputs": [
    {
     "data": {
      "text/html": [
       "<div>\n",
       "<style scoped>\n",
       "    .dataframe tbody tr th:only-of-type {\n",
       "        vertical-align: middle;\n",
       "    }\n",
       "\n",
       "    .dataframe tbody tr th {\n",
       "        vertical-align: top;\n",
       "    }\n",
       "\n",
       "    .dataframe thead th {\n",
       "        text-align: right;\n",
       "    }\n",
       "</style>\n",
       "<table border=\"1\" class=\"dataframe\">\n",
       "  <thead>\n",
       "    <tr style=\"text-align: right;\">\n",
       "      <th></th>\n",
       "      <th>Report Number</th>\n",
       "      <th>Offense ID</th>\n",
       "      <th>Offense Start DateTime</th>\n",
       "      <th>Offense End DateTime</th>\n",
       "      <th>Report DateTime</th>\n",
       "      <th>Group A B</th>\n",
       "      <th>Crime Against Category</th>\n",
       "      <th>Offense Parent Group</th>\n",
       "      <th>Offense</th>\n",
       "      <th>Offense Code</th>\n",
       "      <th>Precinct</th>\n",
       "      <th>Sector</th>\n",
       "      <th>Beat</th>\n",
       "      <th>MCPP</th>\n",
       "      <th>100 Block Address</th>\n",
       "      <th>Longitude</th>\n",
       "      <th>Latitude</th>\n",
       "    </tr>\n",
       "  </thead>\n",
       "  <tbody>\n",
       "    <tr>\n",
       "      <th>367</th>\n",
       "      <td>2019</td>\n",
       "      <td>12595791646</td>\n",
       "      <td>10/29/19 15:24</td>\n",
       "      <td>NaN</td>\n",
       "      <td>1/</td>\n",
       "      <td>A</td>\n",
       "      <td>PROPERTY</td>\n",
       "      <td>LARCENY-THEFT</td>\n",
       "      <td>Shoplifting</td>\n",
       "      <td>23C</td>\n",
       "      <td>N</td>\n",
       "      <td>U</td>\n",
       "      <td>U3</td>\n",
       "      <td>ROOSEVELT/RAVENNA</td>\n",
       "      <td>26XX BLOCK OF NE 49TH ST</td>\n",
       "      <td>-122.298225</td>\n",
       "      <td>47.664317</td>\n",
       "    </tr>\n",
       "    <tr>\n",
       "      <th>697</th>\n",
       "      <td>2019</td>\n",
       "      <td>12369550557</td>\n",
       "      <td>7/5/19 20:22</td>\n",
       "      <td>7/5/19 21:10</td>\n",
       "      <td>1/</td>\n",
       "      <td>A</td>\n",
       "      <td>PROPERTY</td>\n",
       "      <td>DESTRUCTION/DAMAGE/VANDALISM OF PROPERTY</td>\n",
       "      <td>Destruction/Damage/Vandalism of Property</td>\n",
       "      <td>290</td>\n",
       "      <td>N</td>\n",
       "      <td>B</td>\n",
       "      <td>B1</td>\n",
       "      <td>BALLARD SOUTH</td>\n",
       "      <td>30XX BLOCK OF NW MARKET ST</td>\n",
       "      <td>-122.395076</td>\n",
       "      <td>47.668646</td>\n",
       "    </tr>\n",
       "    <tr>\n",
       "      <th>1196</th>\n",
       "      <td>2019</td>\n",
       "      <td>12220783564</td>\n",
       "      <td>12/31/19 22:40</td>\n",
       "      <td>NaN</td>\n",
       "      <td>1/</td>\n",
       "      <td>A</td>\n",
       "      <td>PROPERTY</td>\n",
       "      <td>DESTRUCTION/DAMAGE/VANDALISM OF PROPERTY</td>\n",
       "      <td>Destruction/Damage/Vandalism of Property</td>\n",
       "      <td>290</td>\n",
       "      <td>S</td>\n",
       "      <td>S</td>\n",
       "      <td>S3</td>\n",
       "      <td>RAINIER BEACH</td>\n",
       "      <td>92XX BLOCK OF RAINIER AVE S</td>\n",
       "      <td>-122.268030</td>\n",
       "      <td>47.519852</td>\n",
       "    </tr>\n",
       "    <tr>\n",
       "      <th>1392</th>\n",
       "      <td>2019</td>\n",
       "      <td>12190877818</td>\n",
       "      <td>11/18/19 18:12</td>\n",
       "      <td>NaN</td>\n",
       "      <td>1/</td>\n",
       "      <td>A</td>\n",
       "      <td>PROPERTY</td>\n",
       "      <td>LARCENY-THEFT</td>\n",
       "      <td>Shoplifting</td>\n",
       "      <td>23C</td>\n",
       "      <td>SW</td>\n",
       "      <td>F</td>\n",
       "      <td>F2</td>\n",
       "      <td>ROXHILL/WESTWOOD/ARBOR HEIGHTS</td>\n",
       "      <td>26XX BLOCK OF SW BARTON ST</td>\n",
       "      <td>-122.367312</td>\n",
       "      <td>47.521028</td>\n",
       "    </tr>\n",
       "    <tr>\n",
       "      <th>1482</th>\n",
       "      <td>2019</td>\n",
       "      <td>12174762005</td>\n",
       "      <td>12/6/19 8:42</td>\n",
       "      <td>12/6/19 8:43</td>\n",
       "      <td>1/</td>\n",
       "      <td>A</td>\n",
       "      <td>PROPERTY</td>\n",
       "      <td>DESTRUCTION/DAMAGE/VANDALISM OF PROPERTY</td>\n",
       "      <td>Destruction/Damage/Vandalism of Property</td>\n",
       "      <td>290</td>\n",
       "      <td>W</td>\n",
       "      <td>D</td>\n",
       "      <td>D2</td>\n",
       "      <td>SLU/CASCADE</td>\n",
       "      <td>20XX BLOCK OF WESTLAKE AVE</td>\n",
       "      <td>-122.337879</td>\n",
       "      <td>47.615887</td>\n",
       "    </tr>\n",
       "  </tbody>\n",
       "</table>\n",
       "</div>"
      ],
      "text/plain": [
       "     Report Number   Offense ID Offense Start DateTime Offense End DateTime  \\\n",
       "367           2019  12595791646         10/29/19 15:24                  NaN   \n",
       "697           2019  12369550557           7/5/19 20:22         7/5/19 21:10   \n",
       "1196          2019  12220783564         12/31/19 22:40                  NaN   \n",
       "1392          2019  12190877818         11/18/19 18:12                  NaN   \n",
       "1482          2019  12174762005           12/6/19 8:42         12/6/19 8:43   \n",
       "\n",
       "     Report DateTime Group A B Crime Against Category  \\\n",
       "367               1/         A               PROPERTY   \n",
       "697               1/         A               PROPERTY   \n",
       "1196              1/         A               PROPERTY   \n",
       "1392              1/         A               PROPERTY   \n",
       "1482              1/         A               PROPERTY   \n",
       "\n",
       "                          Offense Parent Group  \\\n",
       "367                              LARCENY-THEFT   \n",
       "697   DESTRUCTION/DAMAGE/VANDALISM OF PROPERTY   \n",
       "1196  DESTRUCTION/DAMAGE/VANDALISM OF PROPERTY   \n",
       "1392                             LARCENY-THEFT   \n",
       "1482  DESTRUCTION/DAMAGE/VANDALISM OF PROPERTY   \n",
       "\n",
       "                                       Offense Offense Code Precinct Sector  \\\n",
       "367                                Shoplifting          23C        N      U   \n",
       "697   Destruction/Damage/Vandalism of Property          290        N      B   \n",
       "1196  Destruction/Damage/Vandalism of Property          290        S      S   \n",
       "1392                               Shoplifting          23C       SW      F   \n",
       "1482  Destruction/Damage/Vandalism of Property          290        W      D   \n",
       "\n",
       "     Beat                            MCPP            100 Block Address  \\\n",
       "367    U3               ROOSEVELT/RAVENNA     26XX BLOCK OF NE 49TH ST   \n",
       "697    B1                   BALLARD SOUTH   30XX BLOCK OF NW MARKET ST   \n",
       "1196   S3                   RAINIER BEACH  92XX BLOCK OF RAINIER AVE S   \n",
       "1392   F2  ROXHILL/WESTWOOD/ARBOR HEIGHTS   26XX BLOCK OF SW BARTON ST   \n",
       "1482   D2                     SLU/CASCADE   20XX BLOCK OF WESTLAKE AVE   \n",
       "\n",
       "       Longitude   Latitude  \n",
       "367  -122.298225  47.664317  \n",
       "697  -122.395076  47.668646  \n",
       "1196 -122.268030  47.519852  \n",
       "1392 -122.367312  47.521028  \n",
       "1482 -122.337879  47.615887  "
      ]
     },
     "execution_count": 15,
     "metadata": {},
     "output_type": "execute_result"
    }
   ],
   "source": [
    "data1.head()"
   ]
  },
  {
   "cell_type": "markdown",
   "metadata": {},
   "source": [
    "# Jan"
   ]
  },
  {
   "cell_type": "code",
   "execution_count": 16,
   "metadata": {},
   "outputs": [],
   "source": [
    "data_1 = data1[data1['Report DateTime'].isin(['01'])]"
   ]
  },
  {
   "cell_type": "code",
   "execution_count": 17,
   "metadata": {
    "scrolled": true
   },
   "outputs": [
    {
     "name": "stdout",
     "output_type": "stream",
     "text": [
      "Series([], Name: Crime Against Category, dtype: int64)\n"
     ]
    }
   ],
   "source": [
    "loc_count = data_1['Crime Against Category'].value_counts()\n",
    "loc_count_sort = loc_count.sort_values(ascending=False)\n",
    "print(loc_count_sort)"
   ]
  },
  {
   "cell_type": "markdown",
   "metadata": {},
   "source": [
    "# Feb"
   ]
  },
  {
   "cell_type": "code",
   "execution_count": 18,
   "metadata": {},
   "outputs": [],
   "source": [
    "data_2 = data1[data1['Report DateTime'].isin(['02'])]"
   ]
  },
  {
   "cell_type": "code",
   "execution_count": 19,
   "metadata": {},
   "outputs": [
    {
     "name": "stdout",
     "output_type": "stream",
     "text": [
      "Series([], Name: Crime Against Category, dtype: int64)\n"
     ]
    }
   ],
   "source": [
    "loc_count = data_2['Crime Against Category'].value_counts()\n",
    "loc_count_sort = loc_count.sort_values(ascending=False)\n",
    "print(loc_count_sort)"
   ]
  },
  {
   "cell_type": "markdown",
   "metadata": {},
   "source": [
    "# Mar"
   ]
  },
  {
   "cell_type": "code",
   "execution_count": 20,
   "metadata": {},
   "outputs": [],
   "source": [
    "data_3 = data1[data1['Report DateTime'].isin(['03'])]"
   ]
  },
  {
   "cell_type": "code",
   "execution_count": 21,
   "metadata": {},
   "outputs": [
    {
     "name": "stdout",
     "output_type": "stream",
     "text": [
      "Series([], Name: Crime Against Category, dtype: int64)\n"
     ]
    }
   ],
   "source": [
    "loc_count = data_3['Crime Against Category'].value_counts()\n",
    "loc_count_sort = loc_count.sort_values(ascending=False)\n",
    "print(loc_count_sort)"
   ]
  },
  {
   "cell_type": "markdown",
   "metadata": {},
   "source": [
    "# Apr"
   ]
  },
  {
   "cell_type": "code",
   "execution_count": 22,
   "metadata": {},
   "outputs": [],
   "source": [
    "data_4 = data1[data1['Report DateTime'].isin(['04'])]"
   ]
  },
  {
   "cell_type": "code",
   "execution_count": 23,
   "metadata": {},
   "outputs": [
    {
     "name": "stdout",
     "output_type": "stream",
     "text": [
      "Series([], Name: Crime Against Category, dtype: int64)\n"
     ]
    }
   ],
   "source": [
    "loc_count = data_4['Crime Against Category'].value_counts()\n",
    "loc_count_sort = loc_count.sort_values(ascending=False)\n",
    "print(loc_count_sort)"
   ]
  },
  {
   "cell_type": "markdown",
   "metadata": {},
   "source": [
    "# May"
   ]
  },
  {
   "cell_type": "code",
   "execution_count": 24,
   "metadata": {},
   "outputs": [],
   "source": [
    "data_5 = data1[data1['Report DateTime'].isin(['05'])]"
   ]
  },
  {
   "cell_type": "code",
   "execution_count": 25,
   "metadata": {},
   "outputs": [
    {
     "name": "stdout",
     "output_type": "stream",
     "text": [
      "Series([], Name: Crime Against Category, dtype: int64)\n"
     ]
    }
   ],
   "source": [
    "loc_count = data_5['Crime Against Category'].value_counts()\n",
    "loc_count_sort = loc_count.sort_values(ascending=False)\n",
    "print(loc_count_sort)"
   ]
  },
  {
   "cell_type": "markdown",
   "metadata": {},
   "source": [
    "# Jun"
   ]
  },
  {
   "cell_type": "code",
   "execution_count": 26,
   "metadata": {},
   "outputs": [],
   "source": [
    "data_6= data1[data1['Report DateTime'].isin(['06'])]"
   ]
  },
  {
   "cell_type": "code",
   "execution_count": 27,
   "metadata": {},
   "outputs": [
    {
     "name": "stdout",
     "output_type": "stream",
     "text": [
      "Series([], Name: Crime Against Category, dtype: int64)\n"
     ]
    }
   ],
   "source": [
    "loc_count = data_6['Crime Against Category'].value_counts()\n",
    "loc_count_sort = loc_count.sort_values(ascending=False)\n",
    "print(loc_count_sort)"
   ]
  },
  {
   "cell_type": "markdown",
   "metadata": {},
   "source": [
    "# Jul"
   ]
  },
  {
   "cell_type": "code",
   "execution_count": 28,
   "metadata": {},
   "outputs": [],
   "source": [
    "data_7= data1[data1['Report DateTime'].isin(['07'])]"
   ]
  },
  {
   "cell_type": "code",
   "execution_count": 29,
   "metadata": {},
   "outputs": [
    {
     "name": "stdout",
     "output_type": "stream",
     "text": [
      "Series([], Name: Crime Against Category, dtype: int64)\n"
     ]
    }
   ],
   "source": [
    "loc_count = data_7['Crime Against Category'].value_counts()\n",
    "loc_count_sort = loc_count.sort_values(ascending=False)\n",
    "print(loc_count_sort)"
   ]
  },
  {
   "cell_type": "markdown",
   "metadata": {},
   "source": [
    "# Aug"
   ]
  },
  {
   "cell_type": "code",
   "execution_count": 63,
   "metadata": {},
   "outputs": [],
   "source": [
    "data_8= data1[data1['Report DateTime'].isin(['08'])]"
   ]
  },
  {
   "cell_type": "code",
   "execution_count": 64,
   "metadata": {},
   "outputs": [
    {
     "name": "stdout",
     "output_type": "stream",
     "text": [
      "Series([], Name: Crime Against Category, dtype: int64)\n"
     ]
    }
   ],
   "source": [
    "loc_count = data_8['Crime Against Category'].value_counts()\n",
    "loc_count_sort = loc_count.sort_values(ascending=False)\n",
    "print(loc_count_sort)"
   ]
  },
  {
   "cell_type": "markdown",
   "metadata": {},
   "source": [
    "# Sep"
   ]
  },
  {
   "cell_type": "code",
   "execution_count": 65,
   "metadata": {},
   "outputs": [],
   "source": [
    "data_9= data1[data1['Report DateTime'].isin(['09'])]"
   ]
  },
  {
   "cell_type": "code",
   "execution_count": 66,
   "metadata": {},
   "outputs": [
    {
     "name": "stdout",
     "output_type": "stream",
     "text": [
      "Series([], Name: Crime Against Category, dtype: int64)\n"
     ]
    }
   ],
   "source": [
    "loc_count = data_9['Crime Against Category'].value_counts()\n",
    "loc_count_sort = loc_count.sort_values(ascending=False)\n",
    "print(loc_count_sort)"
   ]
  },
  {
   "cell_type": "markdown",
   "metadata": {},
   "source": [
    "# Oct"
   ]
  },
  {
   "cell_type": "code",
   "execution_count": 34,
   "metadata": {},
   "outputs": [],
   "source": [
    "data_10= data1[data1['Report DateTime'].isin(['10'])]"
   ]
  },
  {
   "cell_type": "code",
   "execution_count": 35,
   "metadata": {},
   "outputs": [
    {
     "name": "stdout",
     "output_type": "stream",
     "text": [
      "PROPERTY    13594\n",
      "PERSON       3020\n",
      "SOCIETY      2300\n",
      "Name: Crime Against Category, dtype: int64\n"
     ]
    }
   ],
   "source": [
    "loc_count = data_10['Crime Against Category'].value_counts()\n",
    "loc_count_sort = loc_count.sort_values(ascending=False)\n",
    "print(loc_count_sort)"
   ]
  },
  {
   "cell_type": "markdown",
   "metadata": {},
   "source": [
    "# Nov"
   ]
  },
  {
   "cell_type": "code",
   "execution_count": 36,
   "metadata": {},
   "outputs": [],
   "source": [
    "data_11= data1[data1['Report DateTime'].isin(['11'])]"
   ]
  },
  {
   "cell_type": "code",
   "execution_count": 37,
   "metadata": {},
   "outputs": [
    {
     "name": "stdout",
     "output_type": "stream",
     "text": [
      "PROPERTY    12892\n",
      "PERSON       2904\n",
      "SOCIETY      2139\n",
      "Name: Crime Against Category, dtype: int64\n"
     ]
    }
   ],
   "source": [
    "loc_count = data_11['Crime Against Category'].value_counts()\n",
    "loc_count_sort = loc_count.sort_values(ascending=False)\n",
    "print(loc_count_sort)"
   ]
  },
  {
   "cell_type": "markdown",
   "metadata": {},
   "source": [
    "# Dec"
   ]
  },
  {
   "cell_type": "code",
   "execution_count": 38,
   "metadata": {},
   "outputs": [],
   "source": [
    "data_12= data1[data1['Report DateTime'].isin(['12'])]"
   ]
  },
  {
   "cell_type": "code",
   "execution_count": 39,
   "metadata": {},
   "outputs": [
    {
     "name": "stdout",
     "output_type": "stream",
     "text": [
      "PROPERTY       13027\n",
      "PERSON          2812\n",
      "SOCIETY         2325\n",
      "NOT_A_CRIME        1\n",
      "Name: Crime Against Category, dtype: int64\n"
     ]
    }
   ],
   "source": [
    "loc_count = data_12['Crime Against Category'].value_counts()\n",
    "loc_count_sort = loc_count.sort_values(ascending=False)\n",
    "print(loc_count_sort)"
   ]
  },
  {
   "cell_type": "code",
   "execution_count": 40,
   "metadata": {},
   "outputs": [
    {
     "data": {
      "image/png": "[encoded data removed]",
      "text/plain": [
       "<Figure size 720x444.96 with 1 Axes>"
      ]
     },
     "metadata": {
      "needs_background": "light"
     },
     "output_type": "display_data"
    }
   ],
   "source": [
    "import numpy as np\n",
    "import matplotlib.pyplot as plt\n",
    "from pylab import mpl\n",
    "list1 = ['Jan','Feb','Mar','Apr','May','Jun','Jul','Aug','Sep','Oct','Nov','Dec']\n",
    "class_1 = [13550,11010,12825,12629,13013,12782,13663,13758,13052,13594,12892,13027]\n",
    "class_2 = [2798,2378,2824,2758,3212,2973,3267,3796,2952,3020,2904,2812]\n",
    "class_3 = [2583,2199,2498,2477,2356,2404,2495,2382,2180,2300,2139,2325]\n",
    "index=np.arange(len(list1))\n",
    "plt.figure(figsize=(10, 6.18))  \n",
    "plt.title(\"Average Number Of The Crimes In Each Month From 2017 To 2019\")\n",
    "# make the graphs\n",
    "plt.bar(np.arange(len(list1)), class_1, width=0.3, color='lightskyblue')  \n",
    "plt.bar(np.arange(len(list1)) + 0.3, class_2, width=0.3, color='palegreen')  \n",
    "plt.bar(np.arange(len(list1)) + 0.6, class_3, width=0.3, color='pink')  \n",
    "# x-intercept\n",
    "plt.xticks(np.arange(len(list1)) + 0.3, list1)  \n",
    "# add the legends\n",
    "plt.legend(['PROPERTY', 'PERSON', 'SOCIETY'], loc='upper right')  \n",
    "plt.xlabel(\"Month\", fontdict={'size': 16})\n",
    "plt.ylabel(\"Number\", fontdict={'size': 16})\n",
    "plt.grid(False) \n",
    "#show the numbers on the histogram \n",
    "for a,b in zip(index,class_1):  \n",
    " plt.text(a,b,'%.2f'%b,ha='center',va='bottom',fontsize=7)\n",
    "for a,b in zip(index+0.3,class_2):\n",
    " plt.text(a,b,'%.2f'%b,ha='center',va='bottom',fontsize=7)\n",
    "for a,b in zip(index+ 0.6,class_3):\n",
    " plt.text(a,b,'%.2f'%b,ha='center',va='bottom',fontsize=7)\n",
    "list_res = []  # combine 3 arraylists and turn to ndarray\n",
    "list_res.extend([class_1])\n",
    "list_res.extend([class_2])\n",
    "list_res.extend([class_3])\n",
    "plt.show()"
   ]
  },
  {
   "cell_type": "markdown",
   "metadata": {},
   "source": [
    "# Get the Data From 2020 To 2022 In Each Month"
   ]
  },
  {
   "cell_type": "code",
   "execution_count": 41,
   "metadata": {},
   "outputs": [
    {
     "name": "stderr",
     "output_type": "stream",
     "text": [
      "/var/folders/q3/lm7nlbfx40q_lss09jr0_lzm0000gn/T/ipykernel_75793/590780048.py:1: SettingWithCopyWarning: \n",
      "A value is trying to be set on a copy of a slice from a DataFrame.\n",
      "Try using .loc[row_indexer,col_indexer] = value instead\n",
      "\n",
      "See the caveats in the documentation: https://pandas.pydata.org/pandas-docs/stable/user_guide/indexing.html#returning-a-view-versus-a-copy\n",
      "  data2['Report DateTime'] =data2['Report DateTime'].apply(lambda x:x[0:2]) #get the year of the crimes\n"
     ]
    }
   ],
   "source": [
    "data2['Report DateTime'] =data2['Report DateTime'].apply(lambda x:x[0:2]) #get the year of the crimes"
   ]
  },
  {
   "cell_type": "markdown",
   "metadata": {},
   "source": [
    "# Jan"
   ]
  },
  {
   "cell_type": "code",
   "execution_count": 42,
   "metadata": {},
   "outputs": [
    {
     "name": "stdout",
     "output_type": "stream",
     "text": [
      "Series([], Name: Crime Against Category, dtype: int64)\n"
     ]
    }
   ],
   "source": [
    "data_1 = data2[data2['Report DateTime'].isin(['01'])]\n",
    "loc_count = data_1['Crime Against Category'].value_counts()\n",
    "loc_count_sort = loc_count.sort_values(ascending=False)\n",
    "print(loc_count_sort)"
   ]
  },
  {
   "cell_type": "markdown",
   "metadata": {},
   "source": [
    "# Feb"
   ]
  },
  {
   "cell_type": "code",
   "execution_count": 43,
   "metadata": {},
   "outputs": [
    {
     "name": "stdout",
     "output_type": "stream",
     "text": [
      "Series([], Name: Crime Against Category, dtype: int64)\n"
     ]
    }
   ],
   "source": [
    "data_2 = data2[data2['Report DateTime'].isin(['02'])]\n",
    "loc_count = data_2['Crime Against Category'].value_counts()\n",
    "loc_count_sort = loc_count.sort_values(ascending=False)\n",
    "print(loc_count_sort)"
   ]
  },
  {
   "cell_type": "markdown",
   "metadata": {},
   "source": [
    "# Mar"
   ]
  },
  {
   "cell_type": "code",
   "execution_count": 44,
   "metadata": {},
   "outputs": [
    {
     "name": "stdout",
     "output_type": "stream",
     "text": [
      "Series([], Name: Crime Against Category, dtype: int64)\n"
     ]
    }
   ],
   "source": [
    "data_3 = data2[data2['Report DateTime'].isin(['03'])]\n",
    "loc_count = data_3['Crime Against Category'].value_counts()\n",
    "loc_count_sort = loc_count.sort_values(ascending=False)\n",
    "print(loc_count_sort)"
   ]
  },
  {
   "cell_type": "markdown",
   "metadata": {},
   "source": [
    "# Apr"
   ]
  },
  {
   "cell_type": "code",
   "execution_count": 45,
   "metadata": {},
   "outputs": [
    {
     "name": "stdout",
     "output_type": "stream",
     "text": [
      "Series([], Name: Crime Against Category, dtype: int64)\n"
     ]
    }
   ],
   "source": [
    "data_4 = data2[data2['Report DateTime'].isin(['04'])]\n",
    "loc_count = data_4['Crime Against Category'].value_counts()\n",
    "loc_count_sort = loc_count.sort_values(ascending=False)\n",
    "print(loc_count_sort)"
   ]
  },
  {
   "cell_type": "markdown",
   "metadata": {},
   "source": [
    "# May"
   ]
  },
  {
   "cell_type": "code",
   "execution_count": 46,
   "metadata": {},
   "outputs": [
    {
     "name": "stdout",
     "output_type": "stream",
     "text": [
      "Series([], Name: Crime Against Category, dtype: int64)\n"
     ]
    }
   ],
   "source": [
    "data_5 = data2[data2['Report DateTime'].isin(['05'])]\n",
    "loc_count = data_5['Crime Against Category'].value_counts()\n",
    "loc_count_sort = loc_count.sort_values(ascending=False)\n",
    "print(loc_count_sort)"
   ]
  },
  {
   "cell_type": "markdown",
   "metadata": {},
   "source": [
    "# Jun"
   ]
  },
  {
   "cell_type": "code",
   "execution_count": 47,
   "metadata": {},
   "outputs": [
    {
     "name": "stdout",
     "output_type": "stream",
     "text": [
      "Series([], Name: Crime Against Category, dtype: int64)\n"
     ]
    }
   ],
   "source": [
    "data_6 = data2[data2['Report DateTime'].isin(['06'])]\n",
    "loc_count = data_6['Crime Against Category'].value_counts()\n",
    "loc_count_sort = loc_count.sort_values(ascending=False)\n",
    "print(loc_count_sort)"
   ]
  },
  {
   "cell_type": "markdown",
   "metadata": {},
   "source": [
    "# Jul"
   ]
  },
  {
   "cell_type": "code",
   "execution_count": 48,
   "metadata": {},
   "outputs": [
    {
     "name": "stdout",
     "output_type": "stream",
     "text": [
      "Series([], Name: Crime Against Category, dtype: int64)\n"
     ]
    }
   ],
   "source": [
    "data_7 = data2[data2['Report DateTime'].isin(['07'])]\n",
    "loc_count = data_7['Crime Against Category'].value_counts()\n",
    "loc_count_sort = loc_count.sort_values(ascending=False)\n",
    "print(loc_count_sort)"
   ]
  },
  {
   "cell_type": "markdown",
   "metadata": {},
   "source": [
    "# Aug"
   ]
  },
  {
   "cell_type": "code",
   "execution_count": 49,
   "metadata": {},
   "outputs": [
    {
     "name": "stdout",
     "output_type": "stream",
     "text": [
      "Series([], Name: Crime Against Category, dtype: int64)\n"
     ]
    }
   ],
   "source": [
    "data_8 = data2[data2['Report DateTime'].isin(['08'])]\n",
    "loc_count = data_8['Crime Against Category'].value_counts()\n",
    "loc_count_sort = loc_count.sort_values(ascending=False)\n",
    "print(loc_count_sort)"
   ]
  },
  {
   "cell_type": "markdown",
   "metadata": {},
   "source": [
    "# Sep"
   ]
  },
  {
   "cell_type": "code",
   "execution_count": 50,
   "metadata": {},
   "outputs": [
    {
     "name": "stdout",
     "output_type": "stream",
     "text": [
      "Series([], Name: Crime Against Category, dtype: int64)\n"
     ]
    }
   ],
   "source": [
    "data_10 = data2[data2['Report DateTime'].isin(['09'])]\n",
    "loc_count = data_10['Crime Against Category'].value_counts()\n",
    "loc_count_sort = loc_count.sort_values(ascending=False)\n",
    "print(loc_count_sort)"
   ]
  },
  {
   "cell_type": "markdown",
   "metadata": {},
   "source": [
    "# Oct"
   ]
  },
  {
   "cell_type": "code",
   "execution_count": 51,
   "metadata": {},
   "outputs": [
    {
     "name": "stdout",
     "output_type": "stream",
     "text": [
      "PROPERTY    15385\n",
      "PERSON       3114\n",
      "SOCIETY      1123\n",
      "Name: Crime Against Category, dtype: int64\n"
     ]
    }
   ],
   "source": [
    "data_10= data2[data2['Report DateTime'].isin(['10'])]\n",
    "loc_count = data_10['Crime Against Category'].value_counts()\n",
    "loc_count_sort = loc_count.sort_values(ascending=False)\n",
    "print(loc_count_sort)"
   ]
  },
  {
   "cell_type": "markdown",
   "metadata": {},
   "source": [
    "# Nov"
   ]
  },
  {
   "cell_type": "code",
   "execution_count": 52,
   "metadata": {},
   "outputs": [
    {
     "name": "stdout",
     "output_type": "stream",
     "text": [
      "PROPERTY    13165\n",
      "PERSON       2564\n",
      "SOCIETY      1071\n",
      "Name: Crime Against Category, dtype: int64\n"
     ]
    }
   ],
   "source": [
    "data_11= data2[data2['Report DateTime'].isin(['11'])]\n",
    "loc_count = data_11['Crime Against Category'].value_counts()\n",
    "loc_count_sort = loc_count.sort_values(ascending=False)\n",
    "print(loc_count_sort)"
   ]
  },
  {
   "cell_type": "markdown",
   "metadata": {},
   "source": [
    "# Dec"
   ]
  },
  {
   "cell_type": "code",
   "execution_count": 53,
   "metadata": {},
   "outputs": [
    {
     "name": "stdout",
     "output_type": "stream",
     "text": [
      "PROPERTY    9687\n",
      "PERSON      1743\n",
      "SOCIETY      732\n",
      "Name: Crime Against Category, dtype: int64\n"
     ]
    }
   ],
   "source": [
    "data_11= data2[data2['Report DateTime'].isin(['12'])]\n",
    "loc_count = data_11['Crime Against Category'].value_counts()\n",
    "loc_count_sort = loc_count.sort_values(ascending=False)\n",
    "print(loc_count_sort)"
   ]
  },
  {
   "cell_type": "code",
   "execution_count": 54,
   "metadata": {},
   "outputs": [
    {
     "data": {
      "image/png": "[encoded data removed]",
      "text/plain": [
       "<Figure size 720x444.96 with 1 Axes>"
      ]
     },
     "metadata": {
      "needs_background": "light"
     },
     "output_type": "display_data"
    }
   ],
   "source": [
    "import numpy as np\n",
    "import matplotlib.pyplot as plt\n",
    "from pylab import mpl\n",
    "list1 = ['Jan','Feb','Mar','Apr','May','Jun','Jul','Aug','Sep','Oct','Nov','Dec']\n",
    "class_1 = [14092,12618,13087,13162,21175,13090,13806,14025,14765,15385,13165,9687]\n",
    "class_2 = [2815,2575,2869,2718,3034,3098,3362,3299,3060,3314,2564,1743]\n",
    "class_3 = [1421,1385,1321,1334,1320,1017,1137,1158,1127,1123,1071,732]\n",
    "index=np.arange(len(list1))\n",
    "plt.figure(figsize=(10, 6.18))  \n",
    "plt.title(\"Average Number Of The Crimes In Each Month From 2020 To 2022\")\n",
    "# make the graphs \n",
    "plt.bar(np.arange(len(list1)), class_1, width=0.3, color='lightskyblue')  \n",
    "plt.bar(np.arange(len(list1)) + 0.3, class_2, width=0.3, color='palegreen')  \n",
    "plt.bar(np.arange(len(list1)) + 0.6, class_3, width=0.3, color='pink') \n",
    "# x-intercept\n",
    "plt.xticks(np.arange(len(list1)) + 0.3, list1)  \n",
    "# add the legends\n",
    "plt.legend(['PROPERTY', 'PERSON', 'SOCIETY'], loc='upper right') \n",
    "plt.xlabel(\"Month\", fontdict={'size': 16})\n",
    "plt.ylabel(\"Number\", fontdict={'size': 16})\n",
    "# show the numbers on the histogram\n",
    "for a,b in zip(index,class_1):   \n",
    " plt.text(a,b,'%.2f'%b,ha='center',va='bottom',fontsize=7)\n",
    "for a,b in zip(index+0.3,class_2):\n",
    " plt.text(a,b,'%.2f'%b,ha='center',va='bottom',fontsize=7)\n",
    "for a,b in zip(index+ 0.6,class_3):\n",
    " plt.text(a,b,'%.2f'%b,ha='center',va='bottom',fontsize=7)\n",
    "plt.grid(False)  \n",
    "list_res = []  # create list_res array，combine and turn to ndarray\n",
    "list_res.extend([class_1])\n",
    "list_res.extend([class_2])\n",
    "list_res.extend([class_3])\n",
    "plt.show()"
   ]
  },
  {
   "cell_type": "code",
   "execution_count": null,
   "metadata": {},
   "outputs": [],
   "source": []
  },
  {
   "cell_type": "code",
   "execution_count": null,
   "metadata": {},
   "outputs": [],
   "source": []
  }
 ],
 "metadata": {
  "kernelspec": {
   "display_name": "Python 3 (ipykernel)",
   "language": "python",
   "name": "python3"
  },
  "language_info": {
   "codemirror_mode": {
    "name": "ipython",
    "version": 3
   },
   "file_extension": ".py",
   "mimetype": "text/x-python",
   "name": "python",
   "nbconvert_exporter": "python",
   "pygments_lexer": "ipython3",
   "version": "3.9.12"
  },
  "vscode": {
   "interpreter": {
    "hash": "14f3390296dab48c047cf8b7bb618b91bc018f058ca070797d5039e2fbfb924f"
   }
  }
 },
 "nbformat": 4,
 "nbformat_minor": 2
}
