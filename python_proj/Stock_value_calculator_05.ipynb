{
 "cells": [
  {
   "cell_type": "code",
   "execution_count": 20,
   "id": "fb6276a0",
   "metadata": {},
   "outputs": [
    {
     "name": "stdout",
     "output_type": "stream",
     "text": [
      "Welcome to Stock Value Calculator! Please follow the guide below and good luck to your investment!\n",
      "Enter your investment preference:\n",
      "A. With Dividend Reinvestment  B. Without Dividend Reinvestment\n",
      "Tpye'A' or 'B'\n",
      "c\n"
     ]
    }
   ],
   "source": [
    "#At the bottom of this page, I add some comments for user to better understand my calculator application. Let's enjoy it!\n",
    "#If you have a problem in running these cells, please click 'Kernel' and then click 'Restart & Clear Output'. Restart helps!\n",
    "\n",
    "import math\n",
    "\n",
    "#dividend field = Annual Dividends Per Share/price Per Share\n",
    "#get user's investment preference\n",
    "print(\"Welcome to Stock Value Calculator! Please follow the guide below and good luck to your investment!\")\n",
    "preference = input(\"Enter your investment preference:\\nA. With Dividend Reinvestment  B. Without Dividend Reinvestment\\nTpye'A' or 'B'\\n\" )"
   ]
  },
  {
   "cell_type": "code",
   "execution_count": 21,
   "id": "7d6b5ddd",
   "metadata": {},
   "outputs": [
    {
     "name": "stdout",
     "output_type": "stream",
     "text": [
      "Great! How many years do you want to hold the stock? If you want to hold it for 5 years, please type '5'. Positive integer is acceptable.\n",
      "5\n"
     ]
    }
   ],
   "source": [
    "#get years from user\n",
    "year = int(input(\"Great! How many years do you want to hold the stock? If you want to hold it for 5 years, please type '5'. Positive integer is acceptable.\\n\"))\n"
   ]
  },
  {
   "cell_type": "code",
   "execution_count": 22,
   "id": "7e61a9f7",
   "metadata": {},
   "outputs": [],
   "source": [
    "#this cell will calculate a net worth of stock without dividend reinvestment(Given that the price will rise only by a consistant rate of 7% per year, we do not have to consider extra deduction of return from past years for simplicity.)\n",
    "def without_dividend_reinvest(year):\n",
    "    shares = 100\n",
    "    price_per_share = 28 * pow(1.07, year - 1)\n",
    "    dividend_yield = 0.034\n",
    "    net_worth_of_stock = shares * price_per_share * (1 + dividend_yield)\n",
    "    return net_worth_of_stock"
   ]
  },
  {
   "cell_type": "code",
   "execution_count": 23,
   "id": "0ccd14fb",
   "metadata": {},
   "outputs": [],
   "source": [
    "#this cell will calculate a net worth of stock with dividend reinvestment(Given that the price will rise only by a consistant rate of 7% per year, we do not have to consider extra deduction of return from past years for simplicity.)\n",
    "#price_per_share(year) can calculate the actual price per share after passing specific years on the parameter.\n",
    "#shares_per_year(year) can calculate shares per year by recursion function.\n",
    "#with_dividend_reinvest(year) can finally tell user the net value of the stock.\n",
    "def price_per_share(year):\n",
    "    if year == 1:\n",
    "        return 28\n",
    "    else:\n",
    "        return 28 * pow(1.07, year - 1)\n",
    "\n",
    "def shares_per_year(year):\n",
    "    dividend_yield = 0.034\n",
    "    if year == 1:\n",
    "        return 100\n",
    "    return shares_per_year(year - 1) * (1 + price_per_share(year - 1) * dividend_yield / price_per_share(year))\n",
    "\n",
    "def with_dividend_reinvest(year):\n",
    "    dividend_yield = 0.034\n",
    "    shares = shares_per_year(year)\n",
    "    price_per = price_per_share(year)\n",
    "    net_worth_of_stock = shares * price_per * (1 + dividend_yield)\n",
    "    return net_worth_of_stock\n"
   ]
  },
  {
   "cell_type": "code",
   "execution_count": 24,
   "id": "15bd76eb",
   "metadata": {},
   "outputs": [
    {
     "name": "stdout",
     "output_type": "stream",
     "text": [
      "Invalid input.\n"
     ]
    }
   ],
   "source": [
    "#pick the right calculation method for user depending on input. The calculator will automatically round down the final result.\n",
    "if preference.lower() == \"a\":\n",
    "    res = with_dividend_reinvest(year)\n",
    "elif preference.lower() == \"b\":\n",
    "    res = without_dividend_reinvest(year)\n",
    "else:\n",
    "    res = \"Invalid Input\"\n",
    "    \n",
    "type_of_res = type(res)\n",
    "\n",
    "if type_of_res == str:\n",
    "    print(\"Invalid input.\")\n",
    "else:\n",
    "    res = math.floor(res)\n",
    "    print(f\"Very lucky guy! You get a net worth {res} dolloars of stock after {year} years investment!\")\n"
   ]
  },
  {
   "cell_type": "markdown",
   "id": "07953353",
   "metadata": {},
   "source": [
    "##### &#128175; Tables below can help user to understand how calculator works! The secret of two main functions &#129323; You gotta!\n",
    "\n",
    "### &#9989; without_dividend_reinvest(year)：\n",
    "##### Given that the price will rise only by a consistant rate of 7% per year, we do not have to consider extra deduction of return from past years for simplicity."
   ]
  },
  {
   "cell_type": "markdown",
   "id": "dbbdf5cc",
   "metadata": {},
   "source": [
    "| Year(n) | Shares(s) | Price Per Share(p) | Dividend Yield(d) | Net Worth of Stock |\n",
    "| :-: | :-: | --- | :-: | ---|\n",
    "| 1 | 100 | 28 | 3.4% | 100 * 28 * (1+3.4%) |\n",
    "| 2 | 100 | 28 * (1+7%) | 3.4% | 100 * 28 * (1+7%) * (1+3.4%) |\n",
    "| 3 | 100 | 28 * (1+7%)^2 | 3.4% | 100 * 28 * (1+7%)^2 * (1+3.4%) |\n",
    "| 4 | 100 | 28 * (1+7%)^3 | 3.4% | 100 * 28 * (1+7%)^3 * (1+3.4%) |\n",
    "| 5 | 100 | 28 * (1+7%)^4 | 3.4% | 100 * 28 * (1+7%)^4 * (1+3.4%) |\n",
    "| 6 | 100 | 28 * (1+7%)^5 | 3.4% | 100 * 28 * (1+7%)^5 * (1+3.4%) |\n",
    "| 7 | 100 | 28 * (1+7%)^6 | 3.4% | 100 * 28 * (1+7%)^6 * (1+3.4%) |\n",
    "| ... | ... | ... | ... | ... |\n",
    "| n | 100 | 28 * (1+7%)^(n-1) | 3.4% | 100 * p(n) * (1+3.4%) |"
   ]
  },
  {
   "cell_type": "markdown",
   "id": "120ebe07",
   "metadata": {},
   "source": [
    "#### &#11093; Take dividend investment calculation as an example. \n",
    "\n",
    "“Suppose an investor buys \\\\$10,000 worth of a stock with a dividend yield of 4\\% at a rate of a $100 share price. This investor owns 100 shares that all pay a dividend of \\\\$4 per share (100 x \\\\$4 = \\\\$400 total). Assume that the investor uses the \\\\$400 in dividends to purchase four more shares. The price would be adjusted on the ex-dividend date by \\\\$4 per share to \\\\$96 per share. Reinvesting would purchase 4.16 shares; dividend reinvestment programs allow for fractional share purchases. If nothing else changes, the next year the investor will have 104.16 shares worth \\\\$10,416. This amount can be reinvested into more shares once a dividend is declared, thus compounding gains similar to a savings account.” Explanations from https://www.investopedia.com/"
   ]
  },
  {
   "cell_type": "markdown",
   "id": "f55256cf",
   "metadata": {},
   "source": [
    "### &#9989; with_dividend_reinvest(year)：\n",
    "##### Given that the price will rise only by a consistant rate of 7% per year, we do not have to consider extra deduction of return from past years for simplicity."
   ]
  },
  {
   "cell_type": "markdown",
   "id": "37055c05",
   "metadata": {},
   "source": [
    "| Year(n) | Shares(s) | Price Per Share(p) | Dividend Yield(d) | Net Worth of Stock |\n",
    "| :-: | :-: | --- | :-: | ---|\n",
    "| 1 | 100 | 28 | 3.4% | 100 * 28 * （1+3.4%）|\n",
    "| 2 | 100 + 100 * 28 * 3.4% / （28 *（1+7%）） | 28 *（1+7%） | 3.4% | （100 + 100 * 28 * 3.4% / （28 *（1+7%）））** 28 *（1+7%）） * （1+3.4%）|\n",
    "| ... | ... | ... | 3.4% | ...|\n",
    "| n | s(n-1) + s(n-1) * p(n-1) * d / p(n) | 28 * (1+7%)^(n-1) | 3.4% | s(n) * p(n) * (1+d)|"
   ]
  },
  {
   "cell_type": "code",
   "execution_count": null,
   "id": "906a07fd",
   "metadata": {},
   "outputs": [],
   "source": []
  },
  {
   "cell_type": "code",
   "execution_count": null,
   "id": "8e8035c2",
   "metadata": {},
   "outputs": [],
   "source": []
  },
  {
   "cell_type": "code",
   "execution_count": null,
   "id": "389809f8",
   "metadata": {},
   "outputs": [],
   "source": []
  }
 ],
 "metadata": {
  "kernelspec": {
   "display_name": "Python 3 (ipykernel)",
   "language": "python",
   "name": "python3"
  },
  "language_info": {
   "codemirror_mode": {
    "name": "ipython",
    "version": 3
   },
   "file_extension": ".py",
   "mimetype": "text/x-python",
   "name": "python",
   "nbconvert_exporter": "python",
   "pygments_lexer": "ipython3",
   "version": "3.9.7"
  }
 },
 "nbformat": 4,
 "nbformat_minor": 5
}
